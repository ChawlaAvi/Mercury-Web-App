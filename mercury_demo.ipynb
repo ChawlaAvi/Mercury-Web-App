{
 "cells": [
  {
   "cell_type": "code",
   "execution_count": 1,
   "id": "41b24896",
   "metadata": {},
   "outputs": [],
   "source": [
    "import mercury as mr # for widgets\n",
    "import pandas as pd\n",
    "import seaborn as sns\n",
    "from matplotlib import pyplot as plt\n",
    "\n",
    "sns.set()"
   ]
  },
  {
   "cell_type": "code",
   "execution_count": 2,
   "id": "0049a8f3",
   "metadata": {},
   "outputs": [
    {
     "data": {
      "application/mercury+json": "{\n    \"widget\": \"App\",\n    \"title\": \"Employee Data Analysis\",\n    \"description\": \"Samples app in Mercury\",\n    \"show_code\": false,\n    \"show_prompt\": false,\n    \"output\": \"app\",\n    \"schedule\": \"\",\n    \"notify\": \"{}\",\n    \"continuous_update\": true,\n    \"static_notebook\": false,\n    \"show_sidebar\": true,\n    \"full_screen\": true,\n    \"allow_download\": true,\n    \"model_id\": \"mercury-app\",\n    \"code_uid\": \"App.0.40.24.1-rand5e96624f\"\n}",
      "text/html": [
       "<h3>Mercury Application</h3><small>This output won't appear in the web app.</small>"
      ],
      "text/plain": [
       "mercury.App"
      ]
     },
     "metadata": {},
     "output_type": "display_data"
    }
   ],
   "source": [
    "app = mr.App(title=\"Employee Data Analysis\", description=\"Samples app in Mercury\")"
   ]
  },
  {
   "cell_type": "markdown",
   "id": "8249dc9e",
   "metadata": {},
   "source": [
    "# Employee Analysis\n",
    "### By Avi Chawla"
   ]
  },
  {
   "cell_type": "code",
   "execution_count": 3,
   "id": "aa606d3b",
   "metadata": {
    "scrolled": true
   },
   "outputs": [
    {
     "data": {
      "application/mercury+json": "{\n    \"widget\": \"File\",\n    \"max_file_size\": \"100MB\",\n    \"label\": \"Upload CSV\",\n    \"model_id\": \"815bff06d64442579b92e2f682a9b72e\",\n    \"code_uid\": \"File.0.40.18.1-randc4641057\",\n    \"disabled\": false,\n    \"hidden\": false\n}",
      "application/vnd.jupyter.widget-view+json": {
       "model_id": "815bff06d64442579b92e2f682a9b72e",
       "version_major": 2,
       "version_minor": 0
      },
      "text/plain": [
       "mercury.File"
      ]
     },
     "metadata": {},
     "output_type": "display_data"
    }
   ],
   "source": [
    "data_file = mr.File(label=\"Upload CSV\")"
   ]
  },
  {
   "cell_type": "code",
   "execution_count": 7,
   "id": "5b50d93c",
   "metadata": {},
   "outputs": [],
   "source": [
    "file_read = 0\n",
    "\n",
    "if data_file.filepath:\n",
    "    emp_df = pd.read_csv(data_file.filepath)\n",
    "    file_read = 1"
   ]
  },
  {
   "cell_type": "code",
   "execution_count": 11,
   "id": "d652201b",
   "metadata": {},
   "outputs": [],
   "source": [
    "if file_read:\n",
    "    company = mr.MultiSelect(value=emp_df.Company_Name.unique(), \n",
    "                             choices=emp_df.Company_Name.unique(),\n",
    "                             label=\"Select Companies\")\n",
    "    \n",
    "    \n",
    "    credits_filter = mr.Slider(value=1, min=emp_df.Credits.min(), \n",
    "                               max=emp_df.Credits.max(), label=\"Credits Filter\", step=1)\n",
    "    \n",
    "    new_df = emp_df[(emp_df.Company_Name.isin(company.value)) & (emp_df.Credits>=int(credits_filter.value))]\n",
    "    mr.Md(f\"The DataFrame has {new_df.shape[0]} rows and {new_df.shape[1]} columns.\")\n",
    "    \n",
    "    if len(new_df):\n",
    "        fig, ax = plt.subplots(1, 2, figsize = (16, 9))\n",
    "        sns.scatterplot(data = new_df, ax = ax[0], x = \"Employee_Rating\", y = \"Employee_Salary\")\n",
    "        sns.countplot(x = new_df.Employment_Status, ax = ax[1])\n",
    "        plt.show();"
   ]
  }
 ],
 "metadata": {
  "kernelspec": {
   "display_name": "Python 3 (ipykernel)",
   "language": "python",
   "name": "python3"
  },
  "language_info": {
   "codemirror_mode": {
    "name": "ipython",
    "version": 3
   },
   "file_extension": ".py",
   "mimetype": "text/x-python",
   "name": "python",
   "nbconvert_exporter": "python",
   "pygments_lexer": "ipython3",
   "version": "3.9.12"
  }
 },
 "nbformat": 4,
 "nbformat_minor": 5
}
